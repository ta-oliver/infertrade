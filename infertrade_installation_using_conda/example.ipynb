{
 "cells": [
  {
   "cell_type": "markdown",
   "metadata": {},
   "source": [
    "## Welcome! \n",
    "\n",
    "\n",
    "Below is the link to conda guide for dealing with conda virtual environment in comprehensive manner.\n",
    "https://docs.conda.io/projects/conda/en/4.6.0/_downloads/52a95608c49671267e40c689e0bc00ca/conda-cheatsheet.pdf\n"
   ]
  },
  {
   "cell_type": "markdown",
   "metadata": {},
   "source": [
    "*** If you are dealing with data then you might be found of Anaconda software. It is awesome as it provides flexible environment to make your job easy and fast. Let’s say, you have already multiple versions of python installed and you want to use python 3.7x for our product. Currently you are using python 3.9x in your project then you will find some difficulties in making virtual environment with python 3.7x, somehow you will manage to install but there might be again a problem with some of the dependencies. So, how to deal with this kind of situation? ***\n"
   ]
  },
  {
   "cell_type": "markdown",
   "metadata": {},
   "source": [
    "**The answer is conda, conda provides you very flexible way to install the kind of python 3 version you want. Here at Infertrade we have managed to serve our clients with awesome steps.**"
   ]
  },
  {
   "cell_type": "markdown",
   "metadata": {},
   "source": [
    "#### Let’s create a virtual environment having python 3.7x with conda with virtual environment name – infertradeconda. You are always free to give the name of your choice."
   ]
  },
  {
   "cell_type": "markdown",
   "metadata": {},
   "source": [
    "#### Step1: Open Anaconda prompt and make your way to desire drive (probably C drive)\n",
    "\n",
    "#### Step2: make a sub folder “infertrade” in user’s folder.\n",
    "\n",
    "#### Step3: conda create --name infertradeconda python = 3.7\n",
    "\n",
    "#### Step4: conda env list\n",
    "\n",
    "#### Step5: activate infertradeconda\n",
    "\n",
    "#### Step6: python –version\n",
    "\n",
    "#### make sure you have python 3.7x.\n",
    "\n",
    "#### Step7: curl https://bootstrap.pypa.io/get-pip.py -o get-pip.py\n",
    "\n",
    "#### Step8: py get-pip.py\n",
    "\n",
    "#### Step9: pip install infertrade\n",
    "\n",
    "#### Step10: pip install jupyter notebook\n",
    "\n",
    "#### Step11: Open jupyter notebook activated virtual environment by running – jupyter notebook\n",
    "\n",
    "#### **Congratulation’s! You are all set to work with virtual environment having infertrade.\n"
   ]
  },
  {
   "cell_type": "markdown",
   "metadata": {},
   "source": [
    "## Here we have presented very small apporach just to give you guys overview. "
   ]
  },
  {
   "cell_type": "code",
   "execution_count": 4,
   "metadata": {},
   "outputs": [],
   "source": [
    "#importing required libraries\n",
    "\n",
    "from pathlib import Path\n",
    "import pandas as pd\n",
    "import matplotlib.pyplot as plt\n",
    "import seaborn as sns\n",
    "from infertrade.utilities.performance import calculate_portfolio_performance_python"
   ]
  },
  {
   "cell_type": "code",
   "execution_count": 2,
   "metadata": {},
   "outputs": [],
   "source": [
    "pd.set_option('display.max_columns', None)\n",
    "pd.set_option('display.max_rows', None)"
   ]
  },
  {
   "cell_type": "code",
   "execution_count": 3,
   "metadata": {},
   "outputs": [],
   "source": [
    "data = pd.read_csv(\"LBMA_Gold.csv\")"
   ]
  },
  {
   "cell_type": "code",
   "execution_count": 4,
   "metadata": {},
   "outputs": [
    {
     "data": {
      "text/plain": [
       "(12947, 2)"
      ]
     },
     "execution_count": 4,
     "metadata": {},
     "output_type": "execute_result"
    }
   ],
   "source": [
    "data.shape"
   ]
  },
  {
   "cell_type": "code",
   "execution_count": 5,
   "metadata": {},
   "outputs": [
    {
     "data": {
      "text/html": [
       "<div>\n",
       "<style scoped>\n",
       "    .dataframe tbody tr th:only-of-type {\n",
       "        vertical-align: middle;\n",
       "    }\n",
       "\n",
       "    .dataframe tbody tr th {\n",
       "        vertical-align: top;\n",
       "    }\n",
       "\n",
       "    .dataframe thead th {\n",
       "        text-align: right;\n",
       "    }\n",
       "</style>\n",
       "<table border=\"1\" class=\"dataframe\">\n",
       "  <thead>\n",
       "    <tr style=\"text-align: right;\">\n",
       "      <th></th>\n",
       "      <th>Date</th>\n",
       "      <th>LBMA/GOLD usd (pm)</th>\n",
       "    </tr>\n",
       "  </thead>\n",
       "  <tbody>\n",
       "    <tr>\n",
       "      <th>0</th>\n",
       "      <td>1970-01-02</td>\n",
       "      <td>35.08</td>\n",
       "    </tr>\n",
       "    <tr>\n",
       "      <th>1</th>\n",
       "      <td>1970-01-05</td>\n",
       "      <td>35.17</td>\n",
       "    </tr>\n",
       "    <tr>\n",
       "      <th>2</th>\n",
       "      <td>1970-01-06</td>\n",
       "      <td>35.05</td>\n",
       "    </tr>\n",
       "    <tr>\n",
       "      <th>3</th>\n",
       "      <td>1970-01-07</td>\n",
       "      <td>35.00</td>\n",
       "    </tr>\n",
       "    <tr>\n",
       "      <th>4</th>\n",
       "      <td>1970-01-08</td>\n",
       "      <td>34.95</td>\n",
       "    </tr>\n",
       "  </tbody>\n",
       "</table>\n",
       "</div>"
      ],
      "text/plain": [
       "         Date  LBMA/GOLD usd (pm)\n",
       "0  1970-01-02               35.08\n",
       "1  1970-01-05               35.17\n",
       "2  1970-01-06               35.05\n",
       "3  1970-01-07               35.00\n",
       "4  1970-01-08               34.95"
      ]
     },
     "execution_count": 5,
     "metadata": {},
     "output_type": "execute_result"
    }
   ],
   "source": [
    "data.head()"
   ]
  },
  {
   "cell_type": "code",
   "execution_count": 6,
   "metadata": {},
   "outputs": [
    {
     "data": {
      "text/plain": [
       "Date                   object\n",
       "LBMA/GOLD usd (pm)    float64\n",
       "dtype: object"
      ]
     },
     "execution_count": 6,
     "metadata": {},
     "output_type": "execute_result"
    }
   ],
   "source": [
    "data.dtypes"
   ]
  },
  {
   "cell_type": "code",
   "execution_count": 7,
   "metadata": {},
   "outputs": [
    {
     "data": {
      "text/plain": [
       "Date                  False\n",
       "LBMA/GOLD usd (pm)     True\n",
       "dtype: bool"
      ]
     },
     "execution_count": 7,
     "metadata": {},
     "output_type": "execute_result"
    }
   ],
   "source": [
    "data.isnull().any()"
   ]
  },
  {
   "cell_type": "code",
   "execution_count": 8,
   "metadata": {},
   "outputs": [
    {
     "data": {
      "text/plain": [
       "count    12859.000000\n",
       "mean       581.831403\n",
       "std        474.075210\n",
       "min         34.750000\n",
       "25%        290.850000\n",
       "50%        385.000000\n",
       "75%        853.500000\n",
       "max       2067.150000\n",
       "Name: LBMA/GOLD usd (pm), dtype: float64"
      ]
     },
     "execution_count": 8,
     "metadata": {},
     "output_type": "execute_result"
    }
   ],
   "source": [
    "data['LBMA/GOLD usd (pm)'].describe()"
   ]
  },
  {
   "cell_type": "code",
   "execution_count": 10,
   "metadata": {},
   "outputs": [
    {
     "data": {
      "text/plain": [
       "383.00    17\n",
       "384.50    15\n",
       "35.30     14\n",
       "383.50    14\n",
       "384.00    14\n",
       "369.00    13\n",
       "383.25    13\n",
       "392.00    12\n",
       "35.00     12\n",
       "375.25    11\n",
       "Name: LBMA/GOLD usd (pm), dtype: int64"
      ]
     },
     "execution_count": 10,
     "metadata": {},
     "output_type": "execute_result"
    }
   ],
   "source": [
    "data['LBMA/GOLD usd (pm)'].value_counts().head(10)"
   ]
  },
  {
   "cell_type": "code",
   "execution_count": 11,
   "metadata": {},
   "outputs": [
    {
     "data": {
      "text/plain": [
       "(array([2304., 5876., 1026.,  427.,  371.,  932., 1015.,  449.,  360.,\n",
       "          99.]),\n",
       " array([  34.75,  237.99,  441.23,  644.47,  847.71, 1050.95, 1254.19,\n",
       "        1457.43, 1660.67, 1863.91, 2067.15]),\n",
       " <BarContainer object of 10 artists>)"
      ]
     },
     "execution_count": 11,
     "metadata": {},
     "output_type": "execute_result"
    },
    {
     "data": {
      "image/png": "[encoded data removed]",
      "text/plain": [
       "<Figure size 432x288 with 1 Axes>"
      ]
     },
     "metadata": {
      "needs_background": "light"
     },
     "output_type": "display_data"
    }
   ],
   "source": [
    "plt.hist(data['LBMA/GOLD usd (pm)'])"
   ]
  },
  {
   "cell_type": "code",
   "execution_count": 17,
   "metadata": {
    "scrolled": true
   },
   "outputs": [
    {
     "data": {
      "text/plain": [
       "<AxesSubplot:xlabel='LBMA/GOLD usd (pm)', ylabel='Density'>"
      ]
     },
     "execution_count": 17,
     "metadata": {},
     "output_type": "execute_result"
    },
    {
     "data": {
      "image/png": "[encoded data removed]",
      "text/plain": [
       "<Figure size 432x288 with 1 Axes>"
      ]
     },
     "metadata": {
      "needs_background": "light"
     },
     "output_type": "display_data"
    }
   ],
   "source": [
    "import warnings\n",
    "warnings.simplefilter(action='ignore', category=FutureWarning)\n",
    "sns.distplot(data['LBMA/GOLD usd (pm)'])"
   ]
  },
  {
   "cell_type": "code",
   "execution_count": 18,
   "metadata": {},
   "outputs": [],
   "source": [
    "data['LBMA/GOLD usd (pm)'] = data['LBMA/GOLD usd (pm)'].fillna(data['LBMA/GOLD usd (pm)'].median())"
   ]
  },
  {
   "cell_type": "code",
   "execution_count": 20,
   "metadata": {},
   "outputs": [
    {
     "data": {
      "text/plain": [
       "0"
      ]
     },
     "execution_count": 20,
     "metadata": {},
     "output_type": "execute_result"
    }
   ],
   "source": [
    "data['LBMA/GOLD usd (pm)'].isnull().sum()"
   ]
  },
  {
   "cell_type": "code",
   "execution_count": 21,
   "metadata": {},
   "outputs": [],
   "source": [
    "def buy_on_small_rises(df: pd.DataFrame) -> pd.DataFrame:\n",
    "    \"\"\"A rules that buys when the market rose between 2% and 10% from previous close.\"\"\"\n",
    "    df[\"allocation\"] = 0.0\n",
    "    df.loc[df[\"price\"].pct_change(50) >= 0.02, \"allocation\"] = 0.25\n",
    "    df.loc[df[\"price\"].pct_change(50) >= 0.05, \"allocation\"] = 0.5\n",
    "    df.loc[df[\"price\"].pct_change(50) >= 0.10, \"allocation\"] = 0.0\n",
    "    return df\n"
   ]
  },
  {
   "cell_type": "code",
   "execution_count": 35,
   "metadata": {},
   "outputs": [
    {
     "data": {
      "image/png": "[encoded data removed]",
      "text/plain": [
       "<Figure size 432x288 with 1 Axes>"
      ]
     },
     "metadata": {
      "needs_background": "light"
     },
     "output_type": "display_data"
    }
   ],
   "source": [
    "my_dataframe_without_allocations = data.rename(columns={\"LBMA/GOLD usd (pm)\": \"price\", \"Date\": \"date\"})\n",
    "my_dataframe_with_allocations = buy_on_small_rises(my_dataframe_without_allocations)\n",
    "my_dataframe_with_returns = calculate_portfolio_performance_python(my_dataframe_with_allocations)\n",
    "my_dataframe_with_returns.plot(x=\"date\", y=[\"allocation\", \"portfolio_return\"])\n",
    "plt.show()"
   ]
  }
 ],
 "metadata": {
  "kernelspec": {
   "display_name": "Python 3",
   "language": "python",
   "name": "python3"
  },
  "language_info": {
   "codemirror_mode": {
    "name": "ipython",
    "version": 3
   },
   "file_extension": ".py",
   "mimetype": "text/x-python",
   "name": "python",
   "nbconvert_exporter": "python",
   "pygments_lexer": "ipython3",
   "version": "3.7.10"
  }
 },
 "nbformat": 4,
 "nbformat_minor": 4
}
